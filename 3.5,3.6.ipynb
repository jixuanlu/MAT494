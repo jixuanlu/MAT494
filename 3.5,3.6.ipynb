{
  "nbformat": 4,
  "nbformat_minor": 0,
  "metadata": {
    "colab": {
      "name": "Untitled13.ipynb",
      "provenance": [],
      "authorship_tag": "ABX9TyN7/TOoFhxk3UI4MAlo4FSW",
      "include_colab_link": true
    },
    "kernelspec": {
      "name": "python3",
      "display_name": "Python 3"
    },
    "language_info": {
      "name": "python"
    },
    "widgets": {
      "application/vnd.jupyter.widget-state+json": {
        "36b3fa8fa3524e05ab0365ff6c7dfd89": {
          "model_module": "@jupyter-widgets/controls",
          "model_name": "VBoxModel",
          "model_module_version": "1.5.0",
          "state": {
            "_view_name": "VBoxView",
            "_dom_classes": [
              "widget-interact"
            ],
            "_model_name": "VBoxModel",
            "_view_module": "@jupyter-widgets/controls",
            "_model_module_version": "1.5.0",
            "_view_count": null,
            "_view_module_version": "1.5.0",
            "box_style": "",
            "layout": "IPY_MODEL_0d446de458c24bd89d6409ee172c29ec",
            "_model_module": "@jupyter-widgets/controls",
            "children": [
              "IPY_MODEL_d8ffb36b43e84756b99568887d0be0d5",
              "IPY_MODEL_b309f2451e384d26bb5310f570b032ae",
              "IPY_MODEL_8205c0dfe1ef4b41b3d3ba4e8a1f7274",
              "IPY_MODEL_097ec4ba3cbe4d24ba57f2aca1dc2e0c",
              "IPY_MODEL_c87d43a9207140729f9c67370b22e4e6"
            ]
          }
        },
        "0d446de458c24bd89d6409ee172c29ec": {
          "model_module": "@jupyter-widgets/base",
          "model_name": "LayoutModel",
          "model_module_version": "1.2.0",
          "state": {
            "_view_name": "LayoutView",
            "grid_template_rows": null,
            "right": null,
            "justify_content": null,
            "_view_module": "@jupyter-widgets/base",
            "overflow": null,
            "_model_module_version": "1.2.0",
            "_view_count": null,
            "flex_flow": null,
            "width": null,
            "min_width": null,
            "border": null,
            "align_items": null,
            "bottom": null,
            "_model_module": "@jupyter-widgets/base",
            "top": null,
            "grid_column": null,
            "overflow_y": null,
            "overflow_x": null,
            "grid_auto_flow": null,
            "grid_area": null,
            "grid_template_columns": null,
            "flex": null,
            "_model_name": "LayoutModel",
            "justify_items": null,
            "grid_row": null,
            "max_height": null,
            "align_content": null,
            "visibility": null,
            "align_self": null,
            "height": null,
            "min_height": null,
            "padding": null,
            "grid_auto_rows": null,
            "grid_gap": null,
            "max_width": null,
            "order": null,
            "_view_module_version": "1.2.0",
            "grid_template_areas": null,
            "object_position": null,
            "object_fit": null,
            "grid_auto_columns": null,
            "margin": null,
            "display": null,
            "left": null
          }
        },
        "d8ffb36b43e84756b99568887d0be0d5": {
          "model_module": "@jupyter-widgets/controls",
          "model_name": "FloatLogSliderModel",
          "model_module_version": "1.5.0",
          "state": {
            "_view_name": "FloatLogSliderView",
            "orientation": "horizontal",
            "_view_module": "@jupyter-widgets/controls",
            "_model_module_version": "1.5.0",
            "_view_count": null,
            "disabled": false,
            "readout_format": ".3g",
            "_model_module": "@jupyter-widgets/controls",
            "style": "IPY_MODEL_c0cdba259b31404dbb9ec4cc83d27175",
            "layout": "IPY_MODEL_1c702c0ef35146fa9571fe8c01a6d067",
            "min": -4,
            "continuous_update": false,
            "description_tooltip": null,
            "_dom_classes": [],
            "description": "C",
            "_model_name": "FloatLogSliderModel",
            "max": 4,
            "readout": true,
            "step": 0.5,
            "base": 10,
            "value": 1,
            "_view_module_version": "1.5.0"
          }
        },
        "b309f2451e384d26bb5310f570b032ae": {
          "model_module": "@jupyter-widgets/controls",
          "model_name": "DropdownModel",
          "model_module_version": "1.5.0",
          "state": {
            "_options_labels": [
              "linear",
              "poly1",
              "poly2",
              "poly3",
              "poly4",
              "poly5",
              "poly6",
              "poly7",
              "poly8",
              "rbf"
            ],
            "_view_name": "DropdownView",
            "style": "IPY_MODEL_99aaa21feb194b9eab5b0377d7f6c7f3",
            "_dom_classes": [],
            "description": "kernel",
            "_model_name": "DropdownModel",
            "index": 0,
            "_view_module": "@jupyter-widgets/controls",
            "_model_module_version": "1.5.0",
            "_view_count": null,
            "disabled": false,
            "_view_module_version": "1.5.0",
            "description_tooltip": null,
            "_model_module": "@jupyter-widgets/controls",
            "layout": "IPY_MODEL_514befddad0a4dc1b9086c3867aa812a"
          }
        },
        "8205c0dfe1ef4b41b3d3ba4e8a1f7274": {
          "model_module": "@jupyter-widgets/controls",
          "model_name": "FloatSliderModel",
          "model_module_version": "1.5.0",
          "state": {
            "_view_name": "FloatSliderView",
            "style": "IPY_MODEL_3a5b21954fb04a44843ff72eb872fc36",
            "_dom_classes": [],
            "description": "expand:",
            "step": 0.1,
            "_model_name": "FloatSliderModel",
            "orientation": "horizontal",
            "max": 10,
            "_view_module": "@jupyter-widgets/controls",
            "_model_module_version": "1.5.0",
            "value": 3.1,
            "_view_count": null,
            "disabled": false,
            "_view_module_version": "1.5.0",
            "min": 0,
            "continuous_update": false,
            "readout_format": ".2f",
            "description_tooltip": null,
            "readout": true,
            "_model_module": "@jupyter-widgets/controls",
            "layout": "IPY_MODEL_470d71a939e64fb29e5e77de10822193"
          }
        },
        "097ec4ba3cbe4d24ba57f2aca1dc2e0c": {
          "model_module": "@jupyter-widgets/controls",
          "model_name": "FloatSliderModel",
          "model_module_version": "1.5.0",
          "state": {
            "_view_name": "FloatSliderView",
            "style": "IPY_MODEL_97a537d27ba848a1b76b1bdc0520d849",
            "_dom_classes": [],
            "description": "contour intensity:",
            "step": 0.1,
            "_model_name": "FloatSliderModel",
            "orientation": "horizontal",
            "max": 0.9,
            "_view_module": "@jupyter-widgets/controls",
            "_model_module_version": "1.5.0",
            "value": 0.5,
            "_view_count": null,
            "disabled": false,
            "_view_module_version": "1.5.0",
            "min": 0.1,
            "continuous_update": false,
            "readout_format": ".2f",
            "description_tooltip": null,
            "readout": true,
            "_model_module": "@jupyter-widgets/controls",
            "layout": "IPY_MODEL_1deea08b881449aa951cb26b405a04af"
          }
        },
        "c87d43a9207140729f9c67370b22e4e6": {
          "model_module": "@jupyter-widgets/output",
          "model_name": "OutputModel",
          "model_module_version": "1.0.0",
          "state": {
            "_view_name": "OutputView",
            "msg_id": "",
            "_dom_classes": [],
            "_model_name": "OutputModel",
            "outputs": [
              {
                "output_type": "display_data",
                "data": {
                  "image/png": "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\n",
                  "text/plain": "<Figure size 432x288 with 1 Axes>"
                },
                "metadata": {
                  "needs_background": "light"
                }
              }
            ],
            "_view_module": "@jupyter-widgets/output",
            "_model_module_version": "1.0.0",
            "_view_count": null,
            "_view_module_version": "1.0.0",
            "layout": "IPY_MODEL_5c701891dbc14b04b8a080b1195605b1",
            "_model_module": "@jupyter-widgets/output"
          }
        },
        "c0cdba259b31404dbb9ec4cc83d27175": {
          "model_module": "@jupyter-widgets/controls",
          "model_name": "SliderStyleModel",
          "model_module_version": "1.5.0",
          "state": {
            "_view_name": "StyleView",
            "handle_color": null,
            "_model_name": "SliderStyleModel",
            "description_width": "",
            "_view_module": "@jupyter-widgets/base",
            "_model_module_version": "1.5.0",
            "_view_count": null,
            "_view_module_version": "1.2.0",
            "_model_module": "@jupyter-widgets/controls"
          }
        },
        "1c702c0ef35146fa9571fe8c01a6d067": {
          "model_module": "@jupyter-widgets/base",
          "model_name": "LayoutModel",
          "model_module_version": "1.2.0",
          "state": {
            "_view_name": "LayoutView",
            "grid_template_rows": null,
            "right": null,
            "justify_content": null,
            "_view_module": "@jupyter-widgets/base",
            "overflow": null,
            "_model_module_version": "1.2.0",
            "_view_count": null,
            "flex_flow": null,
            "width": null,
            "min_width": null,
            "border": null,
            "align_items": null,
            "bottom": null,
            "_model_module": "@jupyter-widgets/base",
            "top": null,
            "grid_column": null,
            "overflow_y": null,
            "overflow_x": null,
            "grid_auto_flow": null,
            "grid_area": null,
            "grid_template_columns": null,
            "flex": null,
            "_model_name": "LayoutModel",
            "justify_items": null,
            "grid_row": null,
            "max_height": null,
            "align_content": null,
            "visibility": null,
            "align_self": null,
            "height": null,
            "min_height": null,
            "padding": null,
            "grid_auto_rows": null,
            "grid_gap": null,
            "max_width": null,
            "order": null,
            "_view_module_version": "1.2.0",
            "grid_template_areas": null,
            "object_position": null,
            "object_fit": null,
            "grid_auto_columns": null,
            "margin": null,
            "display": null,
            "left": null
          }
        },
        "99aaa21feb194b9eab5b0377d7f6c7f3": {
          "model_module": "@jupyter-widgets/controls",
          "model_name": "DescriptionStyleModel",
          "model_module_version": "1.5.0",
          "state": {
            "_view_name": "StyleView",
            "_model_name": "DescriptionStyleModel",
            "description_width": "",
            "_view_module": "@jupyter-widgets/base",
            "_model_module_version": "1.5.0",
            "_view_count": null,
            "_view_module_version": "1.2.0",
            "_model_module": "@jupyter-widgets/controls"
          }
        },
        "514befddad0a4dc1b9086c3867aa812a": {
          "model_module": "@jupyter-widgets/base",
          "model_name": "LayoutModel",
          "model_module_version": "1.2.0",
          "state": {
            "_view_name": "LayoutView",
            "grid_template_rows": null,
            "right": null,
            "justify_content": null,
            "_view_module": "@jupyter-widgets/base",
            "overflow": null,
            "_model_module_version": "1.2.0",
            "_view_count": null,
            "flex_flow": null,
            "width": null,
            "min_width": null,
            "border": null,
            "align_items": null,
            "bottom": null,
            "_model_module": "@jupyter-widgets/base",
            "top": null,
            "grid_column": null,
            "overflow_y": null,
            "overflow_x": null,
            "grid_auto_flow": null,
            "grid_area": null,
            "grid_template_columns": null,
            "flex": null,
            "_model_name": "LayoutModel",
            "justify_items": null,
            "grid_row": null,
            "max_height": null,
            "align_content": null,
            "visibility": null,
            "align_self": null,
            "height": null,
            "min_height": null,
            "padding": null,
            "grid_auto_rows": null,
            "grid_gap": null,
            "max_width": null,
            "order": null,
            "_view_module_version": "1.2.0",
            "grid_template_areas": null,
            "object_position": null,
            "object_fit": null,
            "grid_auto_columns": null,
            "margin": null,
            "display": null,
            "left": null
          }
        },
        "3a5b21954fb04a44843ff72eb872fc36": {
          "model_module": "@jupyter-widgets/controls",
          "model_name": "SliderStyleModel",
          "model_module_version": "1.5.0",
          "state": {
            "_view_name": "StyleView",
            "handle_color": null,
            "_model_name": "SliderStyleModel",
            "description_width": "",
            "_view_module": "@jupyter-widgets/base",
            "_model_module_version": "1.5.0",
            "_view_count": null,
            "_view_module_version": "1.2.0",
            "_model_module": "@jupyter-widgets/controls"
          }
        },
        "470d71a939e64fb29e5e77de10822193": {
          "model_module": "@jupyter-widgets/base",
          "model_name": "LayoutModel",
          "model_module_version": "1.2.0",
          "state": {
            "_view_name": "LayoutView",
            "grid_template_rows": null,
            "right": null,
            "justify_content": null,
            "_view_module": "@jupyter-widgets/base",
            "overflow": null,
            "_model_module_version": "1.2.0",
            "_view_count": null,
            "flex_flow": null,
            "width": null,
            "min_width": null,
            "border": null,
            "align_items": null,
            "bottom": null,
            "_model_module": "@jupyter-widgets/base",
            "top": null,
            "grid_column": null,
            "overflow_y": null,
            "overflow_x": null,
            "grid_auto_flow": null,
            "grid_area": null,
            "grid_template_columns": null,
            "flex": null,
            "_model_name": "LayoutModel",
            "justify_items": null,
            "grid_row": null,
            "max_height": null,
            "align_content": null,
            "visibility": null,
            "align_self": null,
            "height": null,
            "min_height": null,
            "padding": null,
            "grid_auto_rows": null,
            "grid_gap": null,
            "max_width": null,
            "order": null,
            "_view_module_version": "1.2.0",
            "grid_template_areas": null,
            "object_position": null,
            "object_fit": null,
            "grid_auto_columns": null,
            "margin": null,
            "display": null,
            "left": null
          }
        },
        "97a537d27ba848a1b76b1bdc0520d849": {
          "model_module": "@jupyter-widgets/controls",
          "model_name": "SliderStyleModel",
          "model_module_version": "1.5.0",
          "state": {
            "_view_name": "StyleView",
            "handle_color": null,
            "_model_name": "SliderStyleModel",
            "description_width": "",
            "_view_module": "@jupyter-widgets/base",
            "_model_module_version": "1.5.0",
            "_view_count": null,
            "_view_module_version": "1.2.0",
            "_model_module": "@jupyter-widgets/controls"
          }
        },
        "1deea08b881449aa951cb26b405a04af": {
          "model_module": "@jupyter-widgets/base",
          "model_name": "LayoutModel",
          "model_module_version": "1.2.0",
          "state": {
            "_view_name": "LayoutView",
            "grid_template_rows": null,
            "right": null,
            "justify_content": null,
            "_view_module": "@jupyter-widgets/base",
            "overflow": null,
            "_model_module_version": "1.2.0",
            "_view_count": null,
            "flex_flow": null,
            "width": null,
            "min_width": null,
            "border": null,
            "align_items": null,
            "bottom": null,
            "_model_module": "@jupyter-widgets/base",
            "top": null,
            "grid_column": null,
            "overflow_y": null,
            "overflow_x": null,
            "grid_auto_flow": null,
            "grid_area": null,
            "grid_template_columns": null,
            "flex": null,
            "_model_name": "LayoutModel",
            "justify_items": null,
            "grid_row": null,
            "max_height": null,
            "align_content": null,
            "visibility": null,
            "align_self": null,
            "height": null,
            "min_height": null,
            "padding": null,
            "grid_auto_rows": null,
            "grid_gap": null,
            "max_width": null,
            "order": null,
            "_view_module_version": "1.2.0",
            "grid_template_areas": null,
            "object_position": null,
            "object_fit": null,
            "grid_auto_columns": null,
            "margin": null,
            "display": null,
            "left": null
          }
        },
        "5c701891dbc14b04b8a080b1195605b1": {
          "model_module": "@jupyter-widgets/base",
          "model_name": "LayoutModel",
          "model_module_version": "1.2.0",
          "state": {
            "_view_name": "LayoutView",
            "grid_template_rows": null,
            "right": null,
            "justify_content": null,
            "_view_module": "@jupyter-widgets/base",
            "overflow": null,
            "_model_module_version": "1.2.0",
            "_view_count": null,
            "flex_flow": null,
            "width": null,
            "min_width": null,
            "border": null,
            "align_items": null,
            "bottom": null,
            "_model_module": "@jupyter-widgets/base",
            "top": null,
            "grid_column": null,
            "overflow_y": null,
            "overflow_x": null,
            "grid_auto_flow": null,
            "grid_area": null,
            "grid_template_columns": null,
            "flex": null,
            "_model_name": "LayoutModel",
            "justify_items": null,
            "grid_row": null,
            "max_height": null,
            "align_content": null,
            "visibility": null,
            "align_self": null,
            "height": null,
            "min_height": null,
            "padding": null,
            "grid_auto_rows": null,
            "grid_gap": null,
            "max_width": null,
            "order": null,
            "_view_module_version": "1.2.0",
            "grid_template_areas": null,
            "object_position": null,
            "object_fit": null,
            "grid_auto_columns": null,
            "margin": null,
            "display": null,
            "left": null
          }
        }
      }
    }
  },
  "cells": [
    {
      "cell_type": "markdown",
      "metadata": {
        "id": "view-in-github",
        "colab_type": "text"
      },
      "source": [
        "<a href=\"https://colab.research.google.com/github/jixuanlu/MAT494/blob/main/3.5%2C3.6.ipynb\" target=\"_parent\"><img src=\"https://colab.research.google.com/assets/colab-badge.svg\" alt=\"Open In Colab\"/></a>"
      ]
    },
    {
      "cell_type": "markdown",
      "metadata": {
        "id": "EMrTaOJQSe7G"
      },
      "source": [
        "\n",
        "\n",
        "#  **3.5 K-means**\n",
        "Here we provide some examples of K-means using sklearn: https://scikit-learn.org/stable/modules/generated/sklearn.cluster.KMeans.html\n",
        "\n",
        "Copyright:\n",
        "\n"
      ]
    },
    {
      "cell_type": "code",
      "metadata": {
        "id": "xPSu1s25ScYt"
      },
      "source": [
        "\n",
        "# import libraries\n",
        "from numpy import unique\n",
        "from numpy import where\n",
        "from sklearn.datasets import make_classification\n",
        "from sklearn.cluster import KMeans\n",
        "from sklearn.cluster import MiniBatchKMeans\n",
        "import matplotlib.pyplot as plt"
      ],
      "execution_count": null,
      "outputs": []
    },
    {
      "cell_type": "markdown",
      "metadata": {
        "id": "B3JEWoC8Ssg6"
      },
      "source": [
        "**1. K-Means**"
      ]
    },
    {
      "cell_type": "code",
      "metadata": {
        "colab": {
          "base_uri": "https://localhost:8080/",
          "height": 265
        },
        "id": "NXPv4caaSpoF",
        "outputId": "0e5de719-158d-4008-85e9-5e559f55623b"
      },
      "source": [
        "# Load the data\n",
        "# \"_\" hold the position of \"y\" but we are not interested in y here,\n",
        "# so we can use \"_\" instead of creating a variable y.\n",
        "X, _ = make_classification(n_samples=1000, n_features=2, \n",
        "                           n_informative=2, n_redundant=0, \n",
        "                           n_clusters_per_class=1, random_state=4)\n",
        "\n",
        "# Using the k-means method\n",
        "model = KMeans(n_clusters=2)\n",
        "model.fit(X)\n",
        "\n",
        "# Assign a cluster to each example.\n",
        "yhat = model.predict(X)\n",
        "\n",
        "# Retrieve a unique cluster.\n",
        "clusters = unique(yhat)\n",
        "\n",
        "# Create a scatter plot for the samples of each cluster.\n",
        "for cluster in clusters:\n",
        "    row_ix = where(yhat == cluster)\n",
        "    plt.scatter(X[row_ix, 0], X[row_ix, 1])\n",
        "    \n",
        "# Draw the scatter plot.\n",
        "plt.show()"
      ],
      "execution_count": null,
      "outputs": [
        {
          "output_type": "display_data",
          "data": {
            "image/png": "[encoded data removed]",
            "text/plain": [
              "<Figure size 432x288 with 1 Axes>"
            ]
          },
          "metadata": {
            "needs_background": "light"
          }
        }
      ]
    },
    {
      "cell_type": "markdown",
      "metadata": {
        "id": "X9XTYGNiS1gW"
      },
      "source": [
        "**2. Mini-Batch K-Means**"
      ]
    },
    {
      "cell_type": "code",
      "metadata": {
        "colab": {
          "base_uri": "https://localhost:8080/",
          "height": 265
        },
        "id": "RbR23yt4S5rX",
        "outputId": "d43f30c1-ac42-446d-ee6e-85967e8cb84d"
      },
      "source": [
        "# Data sources\n",
        "X, _ = make_classification(n_samples=1000, n_features=2, \n",
        "                           n_informative=2, n_redundant=0, \n",
        "                           n_clusters_per_class=1, random_state=4)\n",
        "\n",
        "# Using the mini-batch k-means method\n",
        "model = MiniBatchKMeans(n_clusters=2)\n",
        "model.fit(X)\n",
        "\n",
        "# Assign a cluster to each example.\n",
        "yhat = model.predict(X)\n",
        "\n",
        "# Retrieve a unique cluster.\n",
        "clusters = unique(yhat)\n",
        "\n",
        "# Create a scatter plot for the samples of each cluster.\n",
        "for cluster in clusters:\n",
        "    row_ix = where(yhat == cluster)\n",
        "    plt.scatter(X[row_ix, 0], X[row_ix, 1])\n",
        "    \n",
        "# Draw the scatter plot.\n",
        "plt.show()"
      ],
      "execution_count": null,
      "outputs": [
        {
          "output_type": "display_data",
          "data": {
            "image/png": "[encoded data removed]",
            "text/plain": [
              "<Figure size 432x288 with 1 Axes>"
            ]
          },
          "metadata": {
            "needs_background": "light"
          }
        }
      ]
    },
    {
      "cell_type": "markdown",
      "metadata": {
        "id": "jE7t9FxLTAQU"
      },
      "source": [
        "# **Chapter 3.6 Support Vector Machine - Examples**\n",
        "Here, we provide three example of SVM, and introduce the sci-ki learn package: https://scikit-learn.org/stable/modules/svm.html\n",
        "\n",
        "Copyright:"
      ]
    },
    {
      "cell_type": "code",
      "metadata": {
        "id": "ZQ5qScURTICg"
      },
      "source": [
        "# For compatibility with Python 2\n",
        "from __future__ import print_function\n",
        "\n",
        "# To load datasets\n",
        "from sklearn import datasets\n",
        "from sklearn.datasets import make_blobs\n",
        "\n",
        "# To import the classifier (SVM classifier)\n",
        "from sklearn.svm import SVC\n",
        "from sklearn.svm import LinearSVC\n",
        "\n",
        "# To measure accuracy\n",
        "from sklearn import metrics\n",
        "from sklearn.metrics import confusion_matrix\n",
        "\n",
        "from sklearn.model_selection import train_test_split\n",
        "\n",
        "# To support plots\n",
        "from ipywidgets import interact\n",
        "import ipywidgets as widgets\n",
        "import matplotlib as mpl\n",
        "import matplotlib.pyplot as plt\n",
        "from matplotlib.colors import ListedColormap\n",
        "\n",
        "# To increase quality of figures\n",
        "plt.rcParams[\"figure.figsize\"] = (20, 10)\n",
        "\n",
        "# To display all the plots inline\n",
        "%matplotlib inline \n",
        "\n",
        "# Basics\n",
        "import numpy as np\n",
        "import math\n",
        "import cvxopt\n",
        "\n",
        "# To import the scalers\n",
        "from sklearn.preprocessing import MinMaxScaler\n",
        "\n",
        "class DummyScaler:\n",
        "    def fit(self, data):\n",
        "        pass\n",
        "    def transform(self, data):\n",
        "        return data\n",
        "\n",
        "def create_scaler_minmax():\n",
        "    return MinMaxScaler()"
      ],
      "execution_count": null,
      "outputs": []
    },
    {
      "cell_type": "markdown",
      "metadata": {
        "id": "QgCGMWDsTKLc"
      },
      "source": [
        "**1. A Simple Walk-through of the Whole Pipeline**\n",
        "\n",
        "Here we will build a SVM without using the sklearn SVC function, to show the math. Then we will also show the performance of the sklearn SVC function, to compare the results.\n",
        "\n",
        "**1.1 Build the entire math model step by step**\n",
        "\n",
        "First we define our SVM class, which contains functions that we will need later.\n",
        "\n",
        "Instead of using gradient descent to find the best fitting line as in the case of Linear Regression, we can directly solve for w and b using the Lagrangian.\n",
        "\n",
        "To learn more about python classes and OOP: http://hplgit.github.io/primer.html/doc/pub/class/._class-readable001.html"
      ]
    },
    {
      "cell_type": "code",
      "metadata": {
        "id": "reUFAL5STf6E"
      },
      "source": [
        "# be careful about the indentation in a long code block\n",
        "class SVM(object):\n",
        "  def fit(self, X, y):\n",
        "    n_samples, n_features = X.shape\n",
        "\n",
        "    K = np.zeros((n_samples, n_samples))\n",
        "    for i in range(n_samples):\n",
        "      for j in range(n_samples):\n",
        "        K[i,j] = np.dot(X[i], X[j])\n",
        "   \n",
        "    P = cvxopt.matrix(np.outer(y, y) * K)  # P = X^T X \n",
        "    q = cvxopt.matrix(np.ones(n_samples) * -1) # q = -1 (1xN)\n",
        "    A = cvxopt.matrix(y, (1, n_samples)) # A = y^T\n",
        "    b = cvxopt.matrix(0.0) # b = 0 \n",
        "    G = cvxopt.matrix(np.diag(np.ones(n_samples) * -1)) # -1 (NxN)\n",
        "    h = cvxopt.matrix(np.zeros(n_samples)) # 0 (1xN)\n",
        "    solution = cvxopt.solvers.qp(P, q, G, h, A, b)\n",
        "\n",
        "    a = np.ravel(solution['x']) # Lagrange multipliers\n",
        "    # Lagrange have non zero lagrange multipliers\n",
        "    sv = a > 1e-5\n",
        "    ind = np.arange(len(a))[sv]\n",
        "    self.a = a[sv]\n",
        "    self.sv = X[sv]\n",
        "    self.sv_y = y[sv]\n",
        "    self.b = 0  # Intercept\n",
        "    for n in range(len(self.a)):\n",
        "      self.b += self.sv_y[n]\n",
        "      self.b -= np.sum(self.a * self.sv_y * K[ind[n], sv])\n",
        "      self.b /= len(self.a)\n",
        "\n",
        "    # Weights\n",
        "    self.w = np.zeros(n_features)\n",
        "    for n in range(len(self.a)):\n",
        "      self.w += self.a[n] * self.sv_y[n] * self.sv[n]\n",
        "\n",
        "  def project(self, X):\n",
        "    return np.dot(X, self.w) + self.b\n",
        "\n",
        "  def predict(self, X):\n",
        "    return np.sign(self.project(X))"
      ],
      "execution_count": null,
      "outputs": []
    },
    {
      "cell_type": "markdown",
      "metadata": {
        "id": "2ym665hlTjeE"
      },
      "source": [
        "Next we generate some linearly separable data.\n",
        "\n",
        "We label the negative samples as -1 instead of 0. The package cvxopt expects the data to be in a specific format which is why we take an intermediate step."
      ]
    },
    {
      "cell_type": "code",
      "metadata": {
        "colab": {
          "base_uri": "https://localhost:8080/",
          "height": 282
        },
        "id": "EP4iWYj4TkyM",
        "outputId": "89fe03b3-0afc-4ee6-a67f-453b81860af3"
      },
      "source": [
        "X, y = make_blobs(n_samples = 250, centers = 2,\n",
        "                  random_state = 0, cluster_std = 0.60)\n",
        "y[y == 0] = -1\n",
        "tmp = np.ones(len(X))\n",
        "y = tmp * y\n",
        "\n",
        "# plot the data we just generated\n",
        "plt.scatter(X[:, 0], X[:, 1], c = y, cmap = 'winter')"
      ],
      "execution_count": null,
      "outputs": [
        {
          "output_type": "execute_result",
          "data": {
            "text/plain": [
              "<matplotlib.collections.PathCollection at 0x7f262028dc50>"
            ]
          },
          "metadata": {},
          "execution_count": 6
        },
        {
          "output_type": "display_data",
          "data": {
            "image/png": "[encoded data removed]",
            "text/plain": [
              "<Figure size 432x288 with 1 Axes>"
            ]
          },
          "metadata": {
            "needs_background": "light"
          }
        }
      ]
    },
    {
      "cell_type": "markdown",
      "metadata": {
        "id": "sfrv8MV1TpGK"
      },
      "source": [
        "Then we can split the data into training and testing sets."
      ]
    },
    {
      "cell_type": "code",
      "metadata": {
        "colab": {
          "base_uri": "https://localhost:8080/"
        },
        "id": "_e0C4pHaTpv6",
        "outputId": "ee054245-dc3a-457c-8b91-c9ba49f9f645"
      },
      "source": [
        "# split the data\n",
        "X_train, X_test, y_train, y_test = train_test_split(X, y, random_state=0)\n",
        "\n",
        "# initiate a new object of the SVM class we just created, so it can use all the functions we made inside that SVM class\n",
        "# svm is a model\n",
        "svm = SVM()\n",
        "\n",
        "# fit the training data to the model\n",
        "svm.fit(X_train, y_train)"
      ],
      "execution_count": null,
      "outputs": [
        {
          "output_type": "stream",
          "name": "stdout",
          "text": [
            "     pcost       dcost       gap    pres   dres\n",
            " 0: -1.8226e+01 -3.4458e+01  6e+02  2e+01  2e+00\n",
            " 1: -2.5252e+01 -1.8773e+01  2e+02  9e+00  7e-01\n",
            " 2: -5.3459e+01 -3.2711e+01  2e+02  7e+00  6e-01\n",
            " 3: -7.8360e+01 -2.6482e+01  1e+02  4e+00  3e-01\n",
            " 4: -5.6818e+00 -5.1750e+00  1e+01  2e-01  1e-02\n",
            " 5: -3.6906e+00 -4.1082e+00  4e-01  4e-16  9e-15\n",
            " 6: -4.0061e+00 -4.0104e+00  4e-03  1e-15  6e-15\n",
            " 7: -4.0094e+00 -4.0094e+00  4e-05  1e-15  4e-15\n",
            " 8: -4.0094e+00 -4.0094e+00  4e-07  2e-15  7e-15\n",
            "Optimal solution found.\n"
          ]
        }
      ]
    },
    {
      "cell_type": "markdown",
      "metadata": {
        "id": "-XvlXd-DTtji"
      },
      "source": [
        "Next, we plot the decision boundary and support vectors."
      ]
    },
    {
      "cell_type": "code",
      "metadata": {
        "colab": {
          "base_uri": "https://localhost:8080/",
          "height": 282
        },
        "id": "EliFn21vTvkk",
        "outputId": "a50bbf5a-36af-429f-cae2-c98a5b75c6a2"
      },
      "source": [
        "def f(x, w, b, c=0):\n",
        "    return (-w[0] * x - b + c) / w[1]\n",
        "plt.scatter(X_train[:, 0], X_train[:, 1], c=y_train, cmap='winter')\n",
        "\n",
        "# w.x + b = 0\n",
        "a0 = -4; a1 = f(a0, svm.w, svm.b)\n",
        "b0 = 4; b1 = f(b0, svm.w, svm.b)\n",
        "plt.plot([a0,b0], [a1,b1], 'k')\n",
        "\n",
        "# w.x + b = 1\n",
        "a0 = -4; a1 = f(a0, svm.w, svm.b, 1)\n",
        "b0 = 4; b1 = f(b0, svm.w, svm.b, 1)\n",
        "plt.plot([a0,b0], [a1,b1], 'k--')\n",
        "\n",
        "# w.x + b = -1\n",
        "a0 = -4; a1 = f(a0, svm.w, svm.b, -1)\n",
        "b0 = 4; b1 = f(b0, svm.w, svm.b, -1)\n",
        "plt.plot([a0,b0], [a1,b1], 'k--')"
      ],
      "execution_count": null,
      "outputs": [
        {
          "output_type": "execute_result",
          "data": {
            "text/plain": [
              "[<matplotlib.lines.Line2D at 0x7f261fdb6590>]"
            ]
          },
          "metadata": {},
          "execution_count": 8
        },
        {
          "output_type": "display_data",
          "data": {
            "image/png": "[encoded data removed]",
            "text/plain": [
              "<Figure size 432x288 with 1 Axes>"
            ]
          },
          "metadata": {
            "needs_background": "light"
          }
        }
      ]
    },
    {
      "cell_type": "markdown",
      "metadata": {
        "id": "o10OJS8_TyBR"
      },
      "source": [
        "Now we can use our model to predict the classes of the samples in the testing dataset.\n",
        "\n",
        "The confusion matrix is used to evaluate the accuracy of our model."
      ]
    },
    {
      "cell_type": "code",
      "metadata": {
        "colab": {
          "base_uri": "https://localhost:8080/"
        },
        "id": "XnZlQNKMT1Ah",
        "outputId": "bfda9f60-3247-424a-882d-5ffe499986f9"
      },
      "source": [
        "\n",
        "y_pred = svm.predict(X_test)\n",
        "confusion_matrix(y_test, y_pred)"
      ],
      "execution_count": null,
      "outputs": [
        {
          "output_type": "execute_result",
          "data": {
            "text/plain": [
              "array([[29,  0],\n",
              "       [ 7, 27]])"
            ]
          },
          "metadata": {},
          "execution_count": 9
        }
      ]
    },
    {
      "cell_type": "markdown",
      "metadata": {
        "id": "TXlG6gOVT4Gz"
      },
      "source": [
        "**1.2 Use Sci-ki Learn Functions**\n",
        "\n",
        "Here we build the SVM using the powerful functions from sklearn, without defining the mathematical details by ourselves."
      ]
    },
    {
      "cell_type": "code",
      "metadata": {
        "colab": {
          "base_uri": "https://localhost:8080/"
        },
        "id": "vGphmCnXT-u9",
        "outputId": "aec368f9-c49c-4e20-f081-4369766859c1"
      },
      "source": [
        "\n",
        "# LinearSVC is an existing class from sklearn, now we can just use it as well as all the functions within\n",
        "svc = LinearSVC() \n",
        "\n",
        "# fit the training data to the model\n",
        "svc.fit(X_train, y_train)"
      ],
      "execution_count": null,
      "outputs": [
        {
          "output_type": "execute_result",
          "data": {
            "text/plain": [
              "LinearSVC(C=1.0, class_weight=None, dual=True, fit_intercept=True,\n",
              "          intercept_scaling=1, loss='squared_hinge', max_iter=1000,\n",
              "          multi_class='ovr', penalty='l2', random_state=None, tol=0.0001,\n",
              "          verbose=0)"
            ]
          },
          "metadata": {},
          "execution_count": 10
        }
      ]
    },
    {
      "cell_type": "code",
      "metadata": {
        "colab": {
          "base_uri": "https://localhost:8080/",
          "height": 282
        },
        "id": "jtKxgOw_UCqc",
        "outputId": "c6915b46-c185-40ae-dc6a-0e8a36ff5a0a"
      },
      "source": [
        "plt.scatter(X_train[:, 0], X_train[:, 1], c=y_train, cmap='winter');\n",
        "ax = plt.gca()\n",
        "xlim = ax.get_xlim()\n",
        "w = svc.coef_[0]\n",
        "a = -w[0] / w[1]\n",
        "xx = np.linspace(xlim[0], xlim[1])\n",
        "yy = a * xx - svc.intercept_[0] / w[1]\n",
        "plt.plot(xx, yy)\n",
        "yy = a * xx - (svc.intercept_[0] - 1) / w[1]\n",
        "plt.plot(xx, yy, 'k--')\n",
        "yy = a * xx - (svc.intercept_[0] + 1) / w[1]\n",
        "plt.plot(xx, yy, 'k--')"
      ],
      "execution_count": null,
      "outputs": [
        {
          "output_type": "execute_result",
          "data": {
            "text/plain": [
              "[<matplotlib.lines.Line2D at 0x7f260d80a2d0>]"
            ]
          },
          "metadata": {},
          "execution_count": 11
        },
        {
          "output_type": "display_data",
          "data": {
            "image/png": "[encoded data removed]",
            "text/plain": [
              "<Figure size 432x288 with 1 Axes>"
            ]
          },
          "metadata": {
            "needs_background": "light"
          }
        }
      ]
    },
    {
      "cell_type": "markdown",
      "metadata": {
        "id": "VP1HQqTDUE8w"
      },
      "source": [
        "\n",
        "Same as in 1.1, we now use our model to predict the classes of the samples in the testing dataset.\n",
        "\n",
        "The confusion matrix is used to evaluate the accuracy of our model."
      ]
    },
    {
      "cell_type": "code",
      "metadata": {
        "colab": {
          "base_uri": "https://localhost:8080/"
        },
        "id": "SfB8gQw1UG-T",
        "outputId": "d47c60f6-dcf7-47bc-9a35-a6be43e94fd8"
      },
      "source": [
        "\n",
        "y_pred = svc.predict(X_test)\n",
        "confusion_matrix(y_test, y_pred)"
      ],
      "execution_count": null,
      "outputs": [
        {
          "output_type": "execute_result",
          "data": {
            "text/plain": [
              "array([[29,  0],\n",
              "       [ 0, 34]])"
            ]
          },
          "metadata": {},
          "execution_count": 12
        }
      ]
    },
    {
      "cell_type": "markdown",
      "metadata": {
        "id": "CRVfRCobUI8I"
      },
      "source": [
        "**2. A simple example of SVM using sklearn linearSVM**"
      ]
    },
    {
      "cell_type": "code",
      "metadata": {
        "id": "acYlqmj7UMFQ"
      },
      "source": [
        "# see more about the Iris dataset in section 3\n",
        "\n",
        "#  Load data\n",
        "iris = datasets.load_iris()\n",
        "#  We can just consider the first two features\n",
        "X = iris.data[:, :2] \n",
        "y = iris.target\n",
        "\n",
        "C = 1.0 # SVM regularization parameters\n",
        "svc = svm.SVC(kernel='linear', C=1).fit(X, y)\n",
        "\n",
        "# Create a grid for visualization\n",
        "x_min, x_max = X[:, 0].min() - 1, X[:, 0].max() + 1\n",
        "y_min, y_max = X[:, 1].min() - 1, X[:, 1].max() + 1\n",
        "h = (x_max / x_min)/100\n",
        "xx, yy = np.meshgrid(np.arange(x_min, x_max, h), np.arange(y_min, y_max, h))\n",
        "\n",
        "# Visualization of results\n",
        "plt.subplot(1, 1, 1)\n",
        "Z = svc.predict(np.c_[xx.ravel(), yy.ravel()])\n",
        "Z = Z.reshape(xx.shape)\n",
        "plt.contourf(xx, yy, Z, cmap=plt.cm.Paired, alpha=0.8)\n",
        "\n",
        "plt.scatter(X[:, 0], X[:, 1], c=y, cmap=plt.cm.Paired)\n",
        "plt.xlabel('Sepal length')\n",
        "plt.ylabel('Sepal width')\n",
        "plt.xlim(xx.min(), xx.max())\n",
        "plt.title('SVC with linear kernel')\n",
        "plt.show()"
      ],
      "execution_count": null,
      "outputs": []
    },
    {
      "cell_type": "markdown",
      "metadata": {
        "id": "U5q77iJdUOYI"
      },
      "source": [
        "**3. SVM with different kernels with the Iris dataset**\n",
        "The Iris flower data set or Fisher's Iris data set is a multivariate data set introduced by the British statistician and biologist Ronald Fisher in his 1936 paper as an example of linear discriminant analysis. It is perhaps the best known database to be found in the pattern recognition literature.\n",
        "\n",
        "More information can be found here: https://archive.ics.uci.edu/ml/datasets/iris\n",
        "\n",
        "Classes: 3 - 3 kinds of iris\n",
        "\n",
        "Samples per class: 50\n",
        "\n",
        "Samples total: 150\n",
        "\n",
        "Dimensionality: 4 - 4 parameters of the iris flowers\n",
        "\n",
        "Features: real, positive"
      ]
    },
    {
      "cell_type": "code",
      "metadata": {
        "id": "cwKju32QUa0o"
      },
      "source": [
        "X, y = datasets.load_iris(return_X_y = True) \n",
        "\n",
        "# returns all the data as X, and their corresponding classes as y\n",
        "# 4 columns in total, for the four parameters\n",
        "# check the document for load_iris() function: https://scikit-learn.org/stable/modules/generated/sklearn.datasets.load_iris.html"
      ],
      "execution_count": null,
      "outputs": []
    },
    {
      "cell_type": "markdown",
      "metadata": {
        "id": "l0vRe13AUcpk"
      },
      "source": [
        "Trim the data to 2 variables/parameters and 2 classes, then scale the data"
      ]
    },
    {
      "cell_type": "code",
      "metadata": {
        "id": "fC7StsrFUerI"
      },
      "source": [
        "X_trimmed = X[:, 1:3] # keep all the rows, column 1 and 2\n",
        "X_trimmed = X_trimmed[y != 0, :] # delete the data in X that belongs to class 0\n",
        "y_trimmed = y[y != 0] # delete all the class 0 tags in y\n",
        "\n",
        "# scale the data for better performance\n",
        "create_scaler = create_scaler_minmax\n",
        "scaler = create_scaler()\n",
        "scaler.fit(X_trimmed)\n",
        "X_trimmed = scaler.transform(X_trimmed)"
      ],
      "execution_count": null,
      "outputs": []
    },
    {
      "cell_type": "markdown",
      "metadata": {
        "id": "XZT-zrvqUhh0"
      },
      "source": [
        "\n",
        "Plot the trimmed data with different colors"
      ]
    },
    {
      "cell_type": "code",
      "metadata": {
        "colab": {
          "base_uri": "https://localhost:8080/",
          "height": 295
        },
        "id": "EVvcXhXHUjuu",
        "outputId": "d7cfbd01-14f4-4e7a-802c-78dded6b6101"
      },
      "source": [
        "plt.scatter(X_trimmed[:, 0], X_trimmed[:, 1], # these are the data of the 2 parameters picked\n",
        "            c = y_trimmed, # y is the class of each dot, represented by blue and red\n",
        "            s = 30, cmap = plt.cm.bwr)\n",
        "\n",
        "plt.title('Visualization of reduced iris problem')\n",
        "plt.xlabel('Sepal width')  # X_trimmed[:, 0], column 0\n",
        "plt.ylabel('Petal length') # X_trimmed[:, 1], column 1\n",
        "plt.show()"
      ],
      "execution_count": null,
      "outputs": [
        {
          "output_type": "display_data",
          "data": {
            "image/png": "[encoded data removed]",
            "text/plain": [
              "<Figure size 432x288 with 1 Axes>"
            ]
          },
          "metadata": {
            "needs_background": "light"
          }
        }
      ]
    },
    {
      "cell_type": "markdown",
      "metadata": {
        "id": "X5RHR2-nUmGX"
      },
      "source": [
        "**3.1 Build the Support Vector Machines Classifier**\n",
        "\n",
        "Here we will build multiple classifiers for this single dataset, in a single interactive plot, to show the difference causing by the choice of the kernel. SVM also has many other parameters, the choices of these parameters will lead to huge difference of the results.\n",
        "\n",
        "A full list of parameters can be found here: https://scikit-learn.org/stable/modules/generated/sklearn.svm.SVC.html"
      ]
    },
    {
      "cell_type": "code",
      "metadata": {
        "id": "VH1KU100Uubr"
      },
      "source": [
        "# Here we use closure to store the related variables\n",
        "def create_plot_svm_classification_kernels(_X, _y):\n",
        "    X, y = _X, _y\n",
        "    \n",
        "    def plot_svc_kernel(C = 1, kernel = 'linear', expand = 3.1, intensity = 0.5):\n",
        "        # kernel{‘linear’, ‘poly’, ‘rbf’, ‘sigmoid’, ‘precomputed’}, default=’rbf’\n",
        "        \n",
        "        # build the model here, clf is the model\n",
        "        if kernel.startswith('poly'):\n",
        "            clf = SVC(kernel = 'poly', C = C, gamma = 'auto', degree = int(kernel[4:]))\n",
        "            # degree, int, default=3, degree of the polynomial kernel function (‘poly’) \n",
        "            # Ignored by all other kernels. That's why the poly kernel is picked out here\n",
        "    \n",
        "        else:\n",
        "            clf = SVC(kernel = kernel, C = C, gamma = 'auto')\n",
        "            # gamma{‘scale’, ‘auto’} or float, default=’scale’, Kernel coefficient for ‘rbf’, ‘poly’ and ‘sigmoid’\n",
        "            # other parameters take default value\n",
        "        \n",
        "        # fit the iris training data to the model we just built\n",
        "        # the modeling is all done\n",
        "        clf.fit(X, y)\n",
        "    \n",
        "    \n",
        "        # plot the result (both the training data and the classifier)\n",
        "        # since we are going to present different kernel, this plotting program is complex, just for the teaching purpose\n",
        "        # under normal settings, we only need to plot a single kernel\n",
        "        fig, ax = plt.subplots()\n",
        "        ax.plot((np.min(X[:, 0]) - expand, np.max(X[:, 0]) + expand), \n",
        "                (np.min(X[:, 1]) - expand, np.max(X[:, 1]) + expand), alpha=0.0)\n",
        "        \n",
        "        xlim = ax.get_xlim()\n",
        "        ylim = ax.get_ylim()\n",
        "        \n",
        "        xx = np.linspace(xlim[0], xlim[1], 400)\n",
        "        yy = np.linspace(ylim[0], ylim[1], 200)\n",
        "        \n",
        "        YY, XX = np.meshgrid(yy, xx)\n",
        "        xy = np.vstack([XX.ravel(), YY.ravel()]).T\n",
        "        Z = clf.decision_function(xy).reshape(XX.shape)\n",
        "        v = max(-np.min(Z), np.max(Z))\n",
        "        cf = ax.contourf(XX, YY, Z, 200, cmap='coolwarm', \n",
        "                         norm = mpl.colors.Normalize(vmin=-v, vmax=v), alpha=intensity)\n",
        "        \n",
        "        ax.scatter(X[:, 0], X[:, 1], c=y, s=30, cmap=plt.cm.bwr)\n",
        "        ax.contour(XX, YY, Z, colors='k', levels=[-1, 0, 1], alpha=0.8,\n",
        "                   linestyles=['--', '-', '--'], linewidths=[2, 5, 2])\n",
        "        ax.scatter(clf.support_vectors_[:, 0], clf.support_vectors_[:, 1], s=100,\n",
        "                   linewidth=1, facecolors='none', edgecolors='k')\n",
        "        \n",
        "        plt.xlabel('Sepal width')\n",
        "        plt.ylabel('Petal length')\n",
        "        plt.title('Support Vector Machines Classifier: C=%s, %s kernel.' % (str(C), kernel))\n",
        "        plt.show()\n",
        "        \n",
        "    return plot_svc_kernel"
      ],
      "execution_count": null,
      "outputs": []
    },
    {
      "cell_type": "markdown",
      "metadata": {
        "id": "Ad8chgGJUy9L"
      },
      "source": [
        "Build an interactive diagram with widgets, only for teaching purpose."
      ]
    },
    {
      "cell_type": "code",
      "metadata": {
        "colab": {
          "base_uri": "https://localhost:8080/",
          "height": 440,
          "referenced_widgets": [
            "36b3fa8fa3524e05ab0365ff6c7dfd89",
            "0d446de458c24bd89d6409ee172c29ec",
            "d8ffb36b43e84756b99568887d0be0d5",
            "b309f2451e384d26bb5310f570b032ae",
            "8205c0dfe1ef4b41b3d3ba4e8a1f7274",
            "097ec4ba3cbe4d24ba57f2aca1dc2e0c",
            "c87d43a9207140729f9c67370b22e4e6",
            "c0cdba259b31404dbb9ec4cc83d27175",
            "1c702c0ef35146fa9571fe8c01a6d067",
            "99aaa21feb194b9eab5b0377d7f6c7f3",
            "514befddad0a4dc1b9086c3867aa812a",
            "3a5b21954fb04a44843ff72eb872fc36",
            "470d71a939e64fb29e5e77de10822193",
            "97a537d27ba848a1b76b1bdc0520d849",
            "1deea08b881449aa951cb26b405a04af",
            "5c701891dbc14b04b8a080b1195605b1"
          ]
        },
        "id": "-EOB4YM7U1Z4",
        "outputId": "c3595b0f-46d1-43b2-f488-0bc1ab385ff7"
      },
      "source": [
        "kernels = ['linear'] + ['poly'+str(x) for x in range(1, 9)] + ['rbf']\n",
        "С_widget = widgets.FloatLogSlider(\n",
        "    value=1,\n",
        "    base=10,\n",
        "    min=-4,\n",
        "    max=4,\n",
        "    step=0.5,\n",
        "    continuous_update=False,\n",
        "    description='C')\n",
        "expand_widget = widgets.FloatSlider(\n",
        "    value=3.1,\n",
        "    min=0,\n",
        "    max=10,\n",
        "    step=0.1,\n",
        "    continuous_update=False,\n",
        "    description='expand:')\n",
        "intensity_widget = widgets.FloatSlider(\n",
        "    value=0.5,\n",
        "    min=0.1,\n",
        "    max=0.9,\n",
        "    step=0.1,\n",
        "    continuous_update=False,\n",
        "    description='contour intensity:')\n",
        "\n",
        "# Call the function we just made\n",
        "interact(create_plot_svm_classification_kernels(X_trimmed, y_trimmed), \n",
        "         C = С_widget, kernel = kernels, expand = expand_widget, intensity = intensity_widget)"
      ],
      "execution_count": null,
      "outputs": [
        {
          "output_type": "display_data",
          "data": {
            "application/vnd.jupyter.widget-view+json": {
              "model_id": "36b3fa8fa3524e05ab0365ff6c7dfd89",
              "version_minor": 0,
              "version_major": 2
            },
            "text/plain": [
              "interactive(children=(FloatLogSlider(value=1.0, continuous_update=False, description='C', min=-4.0, step=0.5),…"
            ]
          },
          "metadata": {}
        },
        {
          "output_type": "execute_result",
          "data": {
            "text/plain": [
              "<function __main__.create_plot_svm_classification_kernels.<locals>.plot_svc_kernel>"
            ]
          },
          "metadata": {},
          "execution_count": 19
        }
      ]
    },
    {
      "cell_type": "markdown",
      "metadata": {
        "id": "LtopaczLU4Uk"
      },
      "source": [
        "\n",
        "NOTE: To support interactive plots in jupyter lab, run these in command line:\n",
        "\n",
        "1.To install the nodejs package with conda run one of the following, make sure the version is above 12.0.0\n",
        "conda install -c conda-forge nodejs\n",
        "\n",
        "conda install -c conda-forge/label/gcc7 nodejs\n",
        "\n",
        "conda install -c conda-forge/label/cf201901 nodejs\n",
        "\n",
        "conda install -c conda-forge/label/cf202003 nodejs\n",
        "\n",
        "reference: https://anaconda.org/conda-forge/nodejs\n",
        "\n",
        "1.This line may take a while to finish running, do not interrupt:\n",
        "jupyter labextension install @jupyter-widgets/jupyterlab-manager"
      ]
    }
  ]
}