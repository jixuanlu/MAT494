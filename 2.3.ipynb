{
  "nbformat": 4,
  "nbformat_minor": 0,
  "metadata": {
    "colab": {
      "name": "Untitled5.ipynb",
      "provenance": [],
      "authorship_tag": "ABX9TyPF/xa9I3NCtl+FfWClp1Ky",
      "include_colab_link": true
    },
    "kernelspec": {
      "name": "python3",
      "display_name": "Python 3"
    },
    "language_info": {
      "name": "python"
    }
  },
  "cells": [
    {
      "cell_type": "markdown",
      "metadata": {
        "id": "view-in-github",
        "colab_type": "text"
      },
      "source": [
        "<a href=\"https://colab.research.google.com/github/jixuanlu/MAT494/blob/main/2.3.ipynb\" target=\"_parent\"><img src=\"https://colab.research.google.com/assets/colab-badge.svg\" alt=\"Open In Colab\"/></a>"
      ]
    },
    {
      "cell_type": "markdown",
      "metadata": {
        "id": "Kgacyklj3EP9"
      },
      "source": [
        "Homework 2.3"
      ]
    },
    {
      "cell_type": "code",
      "metadata": {
        "id": "G0JozCBH167m"
      },
      "source": [
        "# transpose\n",
        "a = np.array(([1,2], [3,4],[ 5,6]))\n",
        "print('a=\\n',a)\n",
        "print('a.T=\\n',a.T)\n",
        "print('a.transpose()=\\n',a.transpose())"
      ],
      "execution_count": null,
      "outputs": []
    },
    {
      "cell_type": "code",
      "metadata": {
        "id": "t2B1kZ6-2QoY"
      },
      "source": [
        "# reshape\n",
        "a = np.array(([1,2], [3,4], [5,6]))\n",
        "print('a\\n', a)\n",
        "\n",
        "b = a.reshape((2,3))\n",
        "print('b\\n', b)\n",
        "\n",
        "c = a.flatten()\n",
        "print('c\\n', c)\n",
        "\n",
        "# C order, row order\n",
        "d = a.flatten(order = 'C')\n",
        "print('d\\n', d)\n",
        "\n",
        "# Fortran order, column order\n",
        "e = a.flatten(order = 'F')\n",
        "print('e\\n', e)"
      ],
      "execution_count": null,
      "outputs": []
    },
    {
      "cell_type": "code",
      "metadata": {
        "id": "S9lNceG92Suf"
      },
      "source": [
        "# stacking\n",
        "a=np.full((3,2),1.)\n",
        "b=np.full((3,2),2.)\n",
        "c=np.full((3,2),3.)\n",
        "\n",
        "print('a=',a)\n",
        "print('b=',b)\n",
        "print('c=',c)\n",
        "\n",
        "print('hstack=',np.hstack((a,b,c)))\n",
        "print('vstack=',np.vstack((a,b,c)))"
      ],
      "execution_count": null,
      "outputs": []
    }
  ]
}