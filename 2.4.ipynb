{
  "nbformat": 4,
  "nbformat_minor": 0,
  "metadata": {
    "colab": {
      "name": "Untitled6.ipynb",
      "provenance": [],
      "authorship_tag": "ABX9TyPk/SMssZFz1HKpgfTv112v",
      "include_colab_link": true
    },
    "kernelspec": {
      "name": "python3",
      "display_name": "Python 3"
    },
    "language_info": {
      "name": "python"
    }
  },
  "cells": [
    {
      "cell_type": "markdown",
      "metadata": {
        "id": "view-in-github",
        "colab_type": "text"
      },
      "source": [
        "<a href=\"https://colab.research.google.com/github/jixuanlu/MAT494/blob/main/2.4.ipynb\" target=\"_parent\"><img src=\"https://colab.research.google.com/assets/colab-badge.svg\" alt=\"Open In Colab\"/></a>"
      ]
    },
    {
      "cell_type": "markdown",
      "metadata": {
        "id": "OloXsgPnYHM_"
      },
      "source": [
        "Large array"
      ]
    },
    {
      "cell_type": "code",
      "metadata": {
        "id": "BPLj6WVobbix"
      },
      "source": [
        "import numpy as np\n"
      ],
      "execution_count": 9,
      "outputs": []
    },
    {
      "cell_type": "code",
      "metadata": {
        "colab": {
          "base_uri": "https://localhost:8080/"
        },
        "id": "ZvIWCmzPXyab",
        "outputId": "20cddc6d-3de8-4b30-8043-8a7f38cb8d61"
      },
      "source": [
        "# difference of python sum and numpy.sum\n",
        "\n",
        "data = np.arange(1000)\n",
        "\n",
        "%timeit sum(data)\n",
        "%timeit np.sum(data)"
      ],
      "execution_count": 10,
      "outputs": [
        {
          "output_type": "stream",
          "name": "stdout",
          "text": [
            "10000 loops, best of 5: 160 µs per loop\n",
            "The slowest run took 12.37 times longer than the fastest. This could mean that an intermediate result is being cached.\n",
            "100000 loops, best of 5: 4.83 µs per loop\n"
          ]
        }
      ]
    },
    {
      "cell_type": "code",
      "metadata": {
        "colab": {
          "base_uri": "https://localhost:8080/"
        },
        "id": "g9GFZY5VYOnC",
        "outputId": "193daae5-a85c-49fc-8ffd-0cdd80f8b12d"
      },
      "source": [
        "data = []\n",
        "for i in range(1000):\n",
        "    data.append(i)\n",
        "\n",
        "%timeit sum(data)\n",
        "%timeit np.sum(data)"
      ],
      "execution_count": 11,
      "outputs": [
        {
          "output_type": "stream",
          "name": "stdout",
          "text": [
            "100000 loops, best of 5: 7.18 µs per loop\n",
            "10000 loops, best of 5: 99.8 µs per loop\n"
          ]
        }
      ]
    },
    {
      "cell_type": "markdown",
      "metadata": {
        "id": "Trz0TKvra14y"
      },
      "source": [
        "2.4 Maximum Likelihood Estimation\n",
        "Maximum likelihood estimation is an effective approach of estimating the parameters of a probability distribution through maximizing a likelihood function. The point in the parameter space that maximizes the likelihood function is called the maximum likelihood estimate.\n",
        "\n",
        "Let  X1,X2,...,Xn  have joint pmf or pdf  f(x1,x2,...,xn;θ1,...,θm)  where the parameters  θ1,...,θm  have unknown values. When  x1,x2,...,xn  are the observed sample values then  f(x1,x2,...,xn;θ1,...,θm)  is a function of  θ1,...,θm  and is called the likelihood function, which we want to maximize."
      ]
    },
    {
      "cell_type": "code",
      "metadata": {
        "colab": {
          "base_uri": "https://localhost:8080/"
        },
        "id": "S2T3kgIXa-la",
        "outputId": "831bd7bf-b3d8-46a8-921d-3ef353c96983"
      },
      "source": [
        "import numpy as np\n",
        "import pandas as pd\n",
        "from matplotlib import pyplot as plt\n",
        "import seaborn as sns\n",
        "from scipy.optimize import minimize\n",
        "import scipy.stats as stats\n",
        "import pymc3 as pm3\n",
        "# import numdifftools as ndt\n",
        "import statsmodels.api as sm\n",
        "from statsmodels.base.model import GenericLikelihoodModel\n",
        "\n",
        "%matplotlib inline"
      ],
      "execution_count": 4,
      "outputs": [
        {
          "output_type": "stream",
          "name": "stderr",
          "text": [
            "/usr/local/lib/python3.7/dist-packages/statsmodels/tools/_testing.py:19: FutureWarning: pandas.util.testing is deprecated. Use the functions in the public API at pandas.testing instead.\n",
            "  import pandas.util.testing as tm\n"
          ]
        }
      ]
    },
    {
      "cell_type": "code",
      "metadata": {
        "colab": {
          "base_uri": "https://localhost:8080/",
          "height": 336
        },
        "id": "XjZjr_BRbAl6",
        "outputId": "44033e13-ffbf-4b2a-b739-a19ea96466ef"
      },
      "source": [
        "# normally distributed randomized data\n",
        "n = 100\n",
        "x = np.linspace(0, 20, n)\n",
        "e = np.random.normal(loc = 0.0, scale = 5.0, size = n)\n",
        "y = 3*x + e\n",
        "\n",
        "df = pd.DataFrame({'y':y, 'x':x})\n",
        "df['constant'] = 1\n",
        "\n",
        "sns.regplot(df.x, df.y)\n",
        "plt.xlabel('x')\n",
        "plt.ylabel('y')\n",
        "plt.show()"
      ],
      "execution_count": 5,
      "outputs": [
        {
          "output_type": "stream",
          "name": "stderr",
          "text": [
            "/usr/local/lib/python3.7/dist-packages/seaborn/_decorators.py:43: FutureWarning: Pass the following variables as keyword args: x, y. From version 0.12, the only valid positional argument will be `data`, and passing other arguments without an explicit keyword will result in an error or misinterpretation.\n",
            "  FutureWarning\n"
          ]
        },
        {
          "output_type": "display_data",
          "data": {
            "image/png": "[encoded data removed]",
            "text/plain": [
              "<Figure size 432x288 with 1 Axes>"
            ]
          },
          "metadata": {
            "needs_background": "light"
          }
        }
      ]
    },
    {
      "cell_type": "code",
      "metadata": {
        "colab": {
          "base_uri": "https://localhost:8080/",
          "height": 444
        },
        "id": "Afm7J5CPbCeH",
        "outputId": "ad8babd1-6c7c-49ff-aac6-17d9b07213d9"
      },
      "source": [
        "# OLS gives us a benchmark to compare MLE to\n",
        "X = df[['constant', 'x']]\n",
        "sm.OLS(y, X).fit().summary()"
      ],
      "execution_count": 6,
      "outputs": [
        {
          "output_type": "execute_result",
          "data": {
            "text/html": [
              "<table class=\"simpletable\">\n",
              "<caption>OLS Regression Results</caption>\n",
              "<tr>\n",
              "  <th>Dep. Variable:</th>            <td>y</td>        <th>  R-squared:         </th> <td>   0.931</td>\n",
              "</tr>\n",
              "<tr>\n",
              "  <th>Model:</th>                   <td>OLS</td>       <th>  Adj. R-squared:    </th> <td>   0.930</td>\n",
              "</tr>\n",
              "<tr>\n",
              "  <th>Method:</th>             <td>Least Squares</td>  <th>  F-statistic:       </th> <td>   1314.</td>\n",
              "</tr>\n",
              "<tr>\n",
              "  <th>Date:</th>             <td>Mon, 27 Sep 2021</td> <th>  Prob (F-statistic):</th> <td>1.41e-58</td>\n",
              "</tr>\n",
              "<tr>\n",
              "  <th>Time:</th>                 <td>04:04:36</td>     <th>  Log-Likelihood:    </th> <td> -298.80</td>\n",
              "</tr>\n",
              "<tr>\n",
              "  <th>No. Observations:</th>      <td>   100</td>      <th>  AIC:               </th> <td>   601.6</td>\n",
              "</tr>\n",
              "<tr>\n",
              "  <th>Df Residuals:</th>          <td>    98</td>      <th>  BIC:               </th> <td>   606.8</td>\n",
              "</tr>\n",
              "<tr>\n",
              "  <th>Df Model:</th>              <td>     1</td>      <th>                     </th>     <td> </td>   \n",
              "</tr>\n",
              "<tr>\n",
              "  <th>Covariance Type:</th>      <td>nonrobust</td>    <th>                     </th>     <td> </td>   \n",
              "</tr>\n",
              "</table>\n",
              "<table class=\"simpletable\">\n",
              "<tr>\n",
              "      <td></td>        <th>coef</th>     <th>std err</th>      <th>t</th>      <th>P>|t|</th>  <th>[0.025</th>    <th>0.975]</th>  \n",
              "</tr>\n",
              "<tr>\n",
              "  <th>constant</th> <td>    0.3639</td> <td>    0.963</td> <td>    0.378</td> <td> 0.706</td> <td>   -1.547</td> <td>    2.275</td>\n",
              "</tr>\n",
              "<tr>\n",
              "  <th>x</th>        <td>    3.0153</td> <td>    0.083</td> <td>   36.249</td> <td> 0.000</td> <td>    2.850</td> <td>    3.180</td>\n",
              "</tr>\n",
              "</table>\n",
              "<table class=\"simpletable\">\n",
              "<tr>\n",
              "  <th>Omnibus:</th>       <td> 0.935</td> <th>  Durbin-Watson:     </th> <td>   2.023</td>\n",
              "</tr>\n",
              "<tr>\n",
              "  <th>Prob(Omnibus):</th> <td> 0.627</td> <th>  Jarque-Bera (JB):  </th> <td>   1.008</td>\n",
              "</tr>\n",
              "<tr>\n",
              "  <th>Skew:</th>          <td>-0.218</td> <th>  Prob(JB):          </th> <td>   0.604</td>\n",
              "</tr>\n",
              "<tr>\n",
              "  <th>Kurtosis:</th>      <td> 2.771</td> <th>  Cond. No.          </th> <td>    23.1</td>\n",
              "</tr>\n",
              "</table><br/><br/>Warnings:<br/>[1] Standard Errors assume that the covariance matrix of the errors is correctly specified."
            ],
            "text/plain": [
              "<class 'statsmodels.iolib.summary.Summary'>\n",
              "\"\"\"\n",
              "                            OLS Regression Results                            \n",
              "==============================================================================\n",
              "Dep. Variable:                      y   R-squared:                       0.931\n",
              "Model:                            OLS   Adj. R-squared:                  0.930\n",
              "Method:                 Least Squares   F-statistic:                     1314.\n",
              "Date:                Mon, 27 Sep 2021   Prob (F-statistic):           1.41e-58\n",
              "Time:                        04:04:36   Log-Likelihood:                -298.80\n",
              "No. Observations:                 100   AIC:                             601.6\n",
              "Df Residuals:                      98   BIC:                             606.8\n",
              "Df Model:                           1                                         \n",
              "Covariance Type:            nonrobust                                         \n",
              "==============================================================================\n",
              "                 coef    std err          t      P>|t|      [0.025      0.975]\n",
              "------------------------------------------------------------------------------\n",
              "constant       0.3639      0.963      0.378      0.706      -1.547       2.275\n",
              "x              3.0153      0.083     36.249      0.000       2.850       3.180\n",
              "==============================================================================\n",
              "Omnibus:                        0.935   Durbin-Watson:                   2.023\n",
              "Prob(Omnibus):                  0.627   Jarque-Bera (JB):                1.008\n",
              "Skew:                          -0.218   Prob(JB):                        0.604\n",
              "Kurtosis:                       2.771   Cond. No.                         23.1\n",
              "==============================================================================\n",
              "\n",
              "Warnings:\n",
              "[1] Standard Errors assume that the covariance matrix of the errors is correctly specified.\n",
              "\"\"\""
            ]
          },
          "metadata": {},
          "execution_count": 6
        }
      ]
    },
    {
      "cell_type": "code",
      "metadata": {
        "id": "mc5LGza_bFkF"
      },
      "source": [
        "# likelihood function\n",
        "def MLERegression(params):\n",
        "  intercept, beta, sd = params[0], params[1], params[2] # these are guesses at parameters\n",
        "  yhat = intercept + beta*x # predicting ground truth function\n",
        "  negLL = -np.sum(stats.norm.logpdf(y, loc = yhat, scale = sd))\n",
        "  return negLL"
      ],
      "execution_count": 7,
      "outputs": []
    },
    {
      "cell_type": "code",
      "metadata": {
        "colab": {
          "base_uri": "https://localhost:8080/",
          "height": 182
        },
        "id": "q6nifnQ5bI6Z",
        "outputId": "6fa36ff8-a07b-4323-9937-2d4f761c41f7"
      },
      "source": [
        "guess = np.array([3, 3, 3])\n",
        "results = minimize(MLERegression, guess, method = 'Nelder-Mead', options={'disp' : True})\n",
        "results_df = pd.DataFrame({'coef':results['x']})\n",
        "results_df.index = ['constant', 'x', 'sigma']\n",
        "results_df.head(2)"
      ],
      "execution_count": 8,
      "outputs": [
        {
          "output_type": "stream",
          "name": "stdout",
          "text": [
            "Optimization terminated successfully.\n",
            "         Current function value: 298.799846\n",
            "         Iterations: 82\n",
            "         Function evaluations: 150\n"
          ]
        },
        {
          "output_type": "execute_result",
          "data": {
            "text/html": [
              "<div>\n",
              "<style scoped>\n",
              "    .dataframe tbody tr th:only-of-type {\n",
              "        vertical-align: middle;\n",
              "    }\n",
              "\n",
              "    .dataframe tbody tr th {\n",
              "        vertical-align: top;\n",
              "    }\n",
              "\n",
              "    .dataframe thead th {\n",
              "        text-align: right;\n",
              "    }\n",
              "</style>\n",
              "<table border=\"1\" class=\"dataframe\">\n",
              "  <thead>\n",
              "    <tr style=\"text-align: right;\">\n",
              "      <th></th>\n",
              "      <th>coef</th>\n",
              "    </tr>\n",
              "  </thead>\n",
              "  <tbody>\n",
              "    <tr>\n",
              "      <th>constant</th>\n",
              "      <td>0.363951</td>\n",
              "    </tr>\n",
              "    <tr>\n",
              "      <th>x</th>\n",
              "      <td>3.015303</td>\n",
              "    </tr>\n",
              "  </tbody>\n",
              "</table>\n",
              "</div>"
            ],
            "text/plain": [
              "              coef\n",
              "constant  0.363951\n",
              "x         3.015303"
            ]
          },
          "metadata": {},
          "execution_count": 8
        }
      ]
    },
    {
      "cell_type": "code",
      "metadata": {
        "id": "leeMzFvFbKSJ"
      },
      "source": [
        ""
      ],
      "execution_count": 8,
      "outputs": []
    }
  ]
}