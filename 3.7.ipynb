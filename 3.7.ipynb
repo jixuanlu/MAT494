{
  "nbformat": 4,
  "nbformat_minor": 0,
  "metadata": {
    "colab": {
      "name": "Untitled14.ipynb",
      "provenance": [],
      "authorship_tag": "ABX9TyN2GCWnqTOolirWR7TJ0P6q",
      "include_colab_link": true
    },
    "kernelspec": {
      "name": "python3",
      "display_name": "Python 3"
    },
    "language_info": {
      "name": "python"
    }
  },
  "cells": [
    {
      "cell_type": "markdown",
      "metadata": {
        "id": "view-in-github",
        "colab_type": "text"
      },
      "source": [
        "<a href=\"https://colab.research.google.com/github/jixuanlu/MAT494/blob/main/3.7.ipynb\" target=\"_parent\"><img src=\"https://colab.research.google.com/assets/colab-badge.svg\" alt=\"Open In Colab\"/></a>"
      ]
    },
    {
      "cell_type": "markdown",
      "metadata": {
        "id": "GIW8KxW_XgrD"
      },
      "source": [
        "# **3.7 Neural Networks TensorFlow 2**\n",
        "\n",
        "Here we provide a simple example of Neural Network using TensorFlow 2 with MNIST dataset.\n",
        "\n",
        "Source:\n",
        "\n",
        "https://www.tensorflow.org/tutorials/quickstart/beginner"
      ]
    },
    {
      "cell_type": "code",
      "metadata": {
        "id": "l3NmzD6cXp_M"
      },
      "source": [
        "import tensorflow as tf"
      ],
      "execution_count": 1,
      "outputs": []
    },
    {
      "cell_type": "markdown",
      "metadata": {
        "id": "nIjvANvEXsfF"
      },
      "source": [
        "# **1. Load and prepare the MNIST dataset**\n",
        "\n",
        "\n",
        "1. Load and prepare the MNIST dataset¶\n",
        "Reference:\n",
        "\n",
        "https://www.tensorflow.org/api_docs/python/tf/keras/datasets/mnist/load_data\n",
        "\n",
        "This is a dataset of 60,000 28x28 grayscale images of the 10 digits, along with a test set of 10,000 images. It is considered another classic dataset in machine learning area. The images are handwritings of English letters. Researchers are using it as a training set to build neural network models that would recognize human handwritings.\n",
        "\n",
        "The dataset we import from tf.keras is not the original image set, but numerical matrix that transfromed from the images via certain kernels.\n",
        "\n",
        "tf.keras.datasets.mnist.load_data() will return tuples of arrays:\n",
        "\n",
        "- x_train: uint8 NumPy array of grayscale image data with shapes (60000, 28, 28), containing the training data. Pixel values range from 0 to 255.\n",
        "- y_train: uint8 NumPy array of digit labels (integers in range 0-9) with shape (60000,) for the training data.\n",
        "- x_test: uint8 NumPy array of grayscale image data with shapes (10000, 28, 28), containing the test data. Pixel values range from 0 to 255.\n",
        "- y_test: uint8 NumPy array of digit labels (integers in range 0-9) with shape (10000,) for the test data."
      ]
    },
    {
      "cell_type": "code",
      "metadata": {
        "colab": {
          "base_uri": "https://localhost:8080/"
        },
        "id": "7rfby1RkX_IF",
        "outputId": "e8d77e6f-33c9-47fd-9fc8-a05e9cdaf53e"
      },
      "source": [
        "# load the dataset\n",
        "mnist = tf.keras.datasets.mnist\n",
        "\n",
        "# convert the samples from integers to floating-point numbers\n",
        "(x_train, y_train), (x_test, y_test) = mnist.load_data()\n",
        "x_train, x_test = x_train / 255.0, x_test / 255.0"
      ],
      "execution_count": 2,
      "outputs": [
        {
          "output_type": "stream",
          "name": "stdout",
          "text": [
            "Downloading data from https://storage.googleapis.com/tensorflow/tf-keras-datasets/mnist.npz\n",
            "11493376/11490434 [==============================] - 0s 0us/step\n",
            "11501568/11490434 [==============================] - 0s 0us/step\n"
          ]
        }
      ]
    },
    {
      "cell_type": "markdown",
      "metadata": {
        "id": "g_Fsz5O1YBPU"
      },
      "source": [
        "# **2. Build the tf.keras.Sequential model by stacking layers.**\n",
        "\n",
        "Choose an optimizer and loss function for training:"
      ]
    },
    {
      "cell_type": "code",
      "metadata": {
        "id": "Drg5uZfPYJB8"
      },
      "source": [
        "model = tf.keras.models.Sequential([\n",
        "  tf.keras.layers.Flatten(input_shape=(28, 28)),\n",
        "  tf.keras.layers.Dense(128, activation='relu'),\n",
        "  tf.keras.layers.Dropout(0.2),\n",
        "  tf.keras.layers.Dense(10)\n",
        "])"
      ],
      "execution_count": 3,
      "outputs": []
    },
    {
      "cell_type": "markdown",
      "metadata": {
        "id": "Hfbg_1vQYLU-"
      },
      "source": [
        "\n",
        "For each example the model returns a vector of \"logits\" or \"log-odds\" scores, one for each class."
      ]
    },
    {
      "cell_type": "code",
      "metadata": {
        "colab": {
          "base_uri": "https://localhost:8080/"
        },
        "id": "uCb8ooEgYNS6",
        "outputId": "0a07d802-fc33-42db-9928-c2535c984c67"
      },
      "source": [
        "\n",
        "predictions = model(x_train[:1]).numpy()\n",
        "predictions"
      ],
      "execution_count": 4,
      "outputs": [
        {
          "output_type": "execute_result",
          "data": {
            "text/plain": [
              "array([[ 0.05276425,  0.678693  , -0.5726038 ,  0.72082776,  0.5335073 ,\n",
              "         0.04572374, -0.14213763, -0.33354405,  0.14272729,  0.01601358]],\n",
              "      dtype=float32)"
            ]
          },
          "metadata": {},
          "execution_count": 4
        }
      ]
    },
    {
      "cell_type": "markdown",
      "metadata": {
        "id": "PYR9kDZ_YPlk"
      },
      "source": [
        "\n",
        "The tf.nn.softmax function converts these logits to \"probabilities\" for each class:"
      ]
    },
    {
      "cell_type": "code",
      "metadata": {
        "colab": {
          "base_uri": "https://localhost:8080/"
        },
        "id": "fAl0TWcrYRaZ",
        "outputId": "1aea73a0-cc51-4a30-e261-cf544dcdd81e"
      },
      "source": [
        "tf.nn.softmax(predictions).numpy()"
      ],
      "execution_count": 5,
      "outputs": [
        {
          "output_type": "execute_result",
          "data": {
            "text/plain": [
              "array([[0.08675819, 0.16223626, 0.04642123, 0.1692181 , 0.14031191,\n",
              "        0.08614952, 0.07139465, 0.05895748, 0.09492508, 0.08362765]],\n",
              "      dtype=float32)"
            ]
          },
          "metadata": {},
          "execution_count": 5
        }
      ]
    },
    {
      "cell_type": "markdown",
      "metadata": {
        "id": "YVs3951FYUNz"
      },
      "source": [
        "\n",
        "Note: It is possible to bake this tf.nn.softmax in as the activation function for the last layer of the network. While this can make the model output more directly interpretable, this approach is discouraged as it's impossible to provide an exact and numerically stable loss calculation for all models when using a softmax output.\n",
        "\n",
        "The losses.SparseCategoricalCrossentropy loss takes a vector of logits and a True index and returns a scalar loss for each example."
      ]
    },
    {
      "cell_type": "code",
      "metadata": {
        "id": "oa1Y7_NnYWW-"
      },
      "source": [
        "loss_fn = tf.keras.losses.SparseCategoricalCrossentropy(from_logits=True)"
      ],
      "execution_count": 6,
      "outputs": []
    },
    {
      "cell_type": "markdown",
      "metadata": {
        "id": "LY-JM3TOYZya"
      },
      "source": [
        "This loss is equal to the negative log probability of the true class: It is zero if the model is sure of the correct class.\n",
        "\n",
        "This untrained model gives probabilities close to random (1/10 for each class), so the initial loss should be close to -tf.math.log(1/10) ~= 2.3."
      ]
    },
    {
      "cell_type": "code",
      "metadata": {
        "colab": {
          "base_uri": "https://localhost:8080/"
        },
        "id": "i7X2jlnRYcZO",
        "outputId": "ecbfa9ee-1af7-40f1-9874-3642fa313910"
      },
      "source": [
        "\n",
        "loss_fn(y_train[:1], predictions).numpy()"
      ],
      "execution_count": 7,
      "outputs": [
        {
          "output_type": "execute_result",
          "data": {
            "text/plain": [
              "2.451671"
            ]
          },
          "metadata": {},
          "execution_count": 7
        }
      ]
    },
    {
      "cell_type": "code",
      "metadata": {
        "id": "LImWTJdZYfXk"
      },
      "source": [
        "model.compile(optimizer='adam',\n",
        "              loss=loss_fn,\n",
        "              metrics=['accuracy'])"
      ],
      "execution_count": 8,
      "outputs": []
    },
    {
      "cell_type": "markdown",
      "metadata": {
        "id": "dvVKNqQiYhT3"
      },
      "source": [
        "The Model.fit method adjusts the model parameters to minimize the loss:"
      ]
    },
    {
      "cell_type": "code",
      "metadata": {
        "colab": {
          "base_uri": "https://localhost:8080/"
        },
        "id": "ytFq11MTYjeb",
        "outputId": "168158ea-e182-4e3b-ced3-d50f6fa842f7"
      },
      "source": [
        "model.fit(x_train, y_train, epochs=5)"
      ],
      "execution_count": 9,
      "outputs": [
        {
          "output_type": "stream",
          "name": "stdout",
          "text": [
            "Epoch 1/5\n",
            "1875/1875 [==============================] - 4s 2ms/step - loss: 0.2951 - accuracy: 0.9139\n",
            "Epoch 2/5\n",
            "1875/1875 [==============================] - 3s 2ms/step - loss: 0.1461 - accuracy: 0.9560\n",
            "Epoch 3/5\n",
            "1875/1875 [==============================] - 3s 2ms/step - loss: 0.1083 - accuracy: 0.9664\n",
            "Epoch 4/5\n",
            "1875/1875 [==============================] - 3s 2ms/step - loss: 0.0900 - accuracy: 0.9733\n",
            "Epoch 5/5\n",
            "1875/1875 [==============================] - 3s 2ms/step - loss: 0.0757 - accuracy: 0.9762\n"
          ]
        },
        {
          "output_type": "execute_result",
          "data": {
            "text/plain": [
              "<keras.callbacks.History at 0x7f046c1a2b10>"
            ]
          },
          "metadata": {},
          "execution_count": 9
        }
      ]
    },
    {
      "cell_type": "markdown",
      "metadata": {
        "id": "t1cUfMk2YlkZ"
      },
      "source": [
        "# **3. Evaluate the Model**\n",
        "\n",
        "The Model.evaluate method checks the models performance, usually on a \"Validation-set\" or \"Test-set\"."
      ]
    },
    {
      "cell_type": "code",
      "metadata": {
        "colab": {
          "base_uri": "https://localhost:8080/"
        },
        "id": "4yXGwgnpYr9D",
        "outputId": "fdf9359a-7a00-4f91-ab55-5e25d610db43"
      },
      "source": [
        "model.evaluate(x_test,  y_test, verbose=2)"
      ],
      "execution_count": 10,
      "outputs": [
        {
          "output_type": "stream",
          "name": "stdout",
          "text": [
            "313/313 - 0s - loss: 0.0748 - accuracy: 0.9764\n"
          ]
        },
        {
          "output_type": "execute_result",
          "data": {
            "text/plain": [
              "[0.07479475438594818, 0.9764000177383423]"
            ]
          },
          "metadata": {},
          "execution_count": 10
        }
      ]
    },
    {
      "cell_type": "markdown",
      "metadata": {
        "id": "mF6E0uG7YwA5"
      },
      "source": [
        "\n",
        "The image classifier is now trained to ~98% accuracy on this dataset. To learn more, read the TensorFlow tutorials.\n",
        "\n",
        "If you want your model to return a probability, you can wrap the trained model, and attach the softmax to it:"
      ]
    },
    {
      "cell_type": "code",
      "metadata": {
        "id": "GEtMcWznYyXM"
      },
      "source": [
        "\n",
        "probability_model = tf.keras.Sequential([\n",
        "  model,\n",
        "  tf.keras.layers.Softmax()\n",
        "])"
      ],
      "execution_count": 11,
      "outputs": []
    },
    {
      "cell_type": "code",
      "metadata": {
        "colab": {
          "base_uri": "https://localhost:8080/"
        },
        "id": "78ePwCVyY1Ge",
        "outputId": "3b38f2b6-07e0-46ec-f494-efc412644178"
      },
      "source": [
        "probability_model(x_test[:5])"
      ],
      "execution_count": 12,
      "outputs": [
        {
          "output_type": "execute_result",
          "data": {
            "text/plain": [
              "<tf.Tensor: shape=(5, 10), dtype=float32, numpy=\n",
              "array([[1.54472755e-08, 4.84353313e-09, 8.71225097e-07, 1.51904533e-04,\n",
              "        6.80037233e-12, 5.04555942e-07, 4.58987720e-13, 9.99846339e-01,\n",
              "        1.21066792e-08, 4.88949809e-07],\n",
              "       [3.38340307e-08, 4.00497328e-07, 9.99998689e-01, 7.95214248e-07,\n",
              "        4.45750400e-16, 1.23090151e-08, 4.26582751e-08, 1.21889220e-13,\n",
              "        6.61571988e-08, 2.68813596e-12],\n",
              "       [1.02244606e-07, 9.99130547e-01, 4.59575240e-05, 1.72651846e-06,\n",
              "        3.47284586e-05, 1.14181294e-05, 1.07853002e-05, 7.33653957e-04,\n",
              "        3.02470544e-05, 8.58652697e-07],\n",
              "       [9.99970078e-01, 9.96469296e-11, 7.01584099e-07, 3.28843868e-08,\n",
              "        8.77174156e-09, 2.99583292e-07, 2.41563412e-05, 1.06112077e-06,\n",
              "        9.09705289e-09, 3.53195537e-06],\n",
              "       [1.94431300e-06, 4.08671408e-09, 7.60603314e-07, 9.49914103e-09,\n",
              "        9.99241590e-01, 1.63003023e-07, 6.86637634e-07, 2.81614975e-05,\n",
              "        2.27033524e-06, 7.24473794e-04]], dtype=float32)>"
            ]
          },
          "metadata": {},
          "execution_count": 12
        }
      ]
    },
    {
      "cell_type": "markdown",
      "metadata": {
        "id": "9rFt1AbQZDmb"
      },
      "source": [
        "**Copyright 2019 The TensorFlow Authors.**"
      ]
    },
    {
      "cell_type": "code",
      "metadata": {
        "id": "YjFhlT2pY3pp"
      },
      "source": [
        "#@title Licensed under the Apache License, Version 2.0 (the \"License\");\n",
        "# you may not use this file except in compliance with the License.\n",
        "# You may obtain a copy of the License at\n",
        "#\n",
        "# https://www.apache.org/licenses/LICENSE-2.0\n",
        "#\n",
        "# Unless required by applicable law or agreed to in writing, software\n",
        "# distributed under the License is distributed on an \"AS IS\" BASIS,\n",
        "# WITHOUT WARRANTIES OR CONDITIONS OF ANY KIND, either express or implied.\n",
        "# See the License for the specific language governing permissions and\n",
        "# limitations under the License."
      ],
      "execution_count": 13,
      "outputs": []
    }
  ]
}